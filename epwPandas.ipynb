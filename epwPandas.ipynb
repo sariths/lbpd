{
 "cells": [
  {
   "cell_type": "code",
   "execution_count": null,
   "metadata": {
    "collapsed": true
   },
   "outputs": [],
   "source": [
    "from ladybug.epw import EPW\n",
    "from pandas import DataFrame\n",
    "from collections import OrderedDict\n",
    "\n",
    "epwCls=EPW(r\"assets/mannheim.epw\")\n",
    "\n",
    "epwDataList=epwCls.to_dict()['data_collections']\n",
    "epwDataDict=OrderedDict()\n",
    "\n",
    "for dataCol in  epwDataList:\n",
    "    dataName=dataCol['header']['data_type']['name']\n",
    "    epwDataDict[dataName]=dataCol['values']\n",
    "\n",
    "epwDataFrame=DataFrame(epwDataDict)"
   ]
  }
 ],
 "metadata": {
  "kernelspec": {
   "display_name": "Python 2",
   "language": "python",
   "name": "python2"
  },
  "language_info": {
   "codemirror_mode": {
    "name": "ipython",
    "version": 2
   },
   "file_extension": ".py",
   "mimetype": "text/x-python",
   "name": "python",
   "nbconvert_exporter": "python",
   "pygments_lexer": "ipython2",
   "version": "2.7.6"
  }
 },
 "nbformat": 4,
 "nbformat_minor": 0
}
